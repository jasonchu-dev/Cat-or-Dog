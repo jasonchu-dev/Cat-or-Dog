{
 "cells": [
  {
   "cell_type": "code",
   "execution_count": 21,
   "id": "3276d4e0-2aee-4496-9195-16a27a29cda9",
   "metadata": {},
   "outputs": [],
   "source": [
    "import cv2 as cv\n",
    "import os\n",
    "import tensorflow as tf\n",
    "import random\n",
    "import numpy as np\n",
    "from tensorflow.keras.layers import Dense, Conv2D, MaxPooling2D, Flatten, Activation, Dropout\n",
    "from tensorflow.keras.models import Sequential\n",
    "from sklearn.model_selection import train_test_split"
   ]
  },
  {
   "cell_type": "code",
   "execution_count": 22,
   "id": "e8e5a7cf-4c7f-43d7-bcee-f631e268bfe5",
   "metadata": {},
   "outputs": [
    {
     "data": {
      "text/plain": [
       "(698, 698)"
      ]
     },
     "execution_count": 22,
     "metadata": {},
     "output_type": "execute_result"
    }
   ],
   "source": [
    "X, y = [], []\n",
    "\n",
    "path = os.path.join(os.getcwd(), 'PetImages')\n",
    "path_Dog = os.path.join(path, 'Dog')\n",
    "path_Cat = os.path.join(path, 'Cat')\n",
    "\n",
    "for i in os.listdir(path_Dog)[:350]:\n",
    "    try:\n",
    "        img = cv.imread(os.path.join(path_Dog, i))\n",
    "        img = cv.resize(img, (225, 225))\n",
    "        img = img.reshape(225, 225, 3)\n",
    "        img = img / 255\n",
    "        X.append(img)\n",
    "        y.append(0)\n",
    "    except Exception as e:\n",
    "        pass\n",
    "    \n",
    "for i in os.listdir(path_Cat)[:350]:\n",
    "    try:\n",
    "        img = cv.imread(os.path.join(path_Cat, i))\n",
    "        img = cv.resize(img, (225, 225))\n",
    "        img = img.reshape(225, 225, 3)\n",
    "        img = img / 255\n",
    "        X.append(img)\n",
    "        y.append(1)\n",
    "    except Exception as e:\n",
    "        pass\n",
    "\n",
    "len(X), len(y)"
   ]
  },
  {
   "cell_type": "code",
   "execution_count": 23,
   "id": "eba3bfdb-3b68-42f1-808d-df5eac189fd0",
   "metadata": {},
   "outputs": [],
   "source": [
    "X_train, X_test, y_train, y_test = train_test_split(X, y, test_size=0.2, random_state=42)\n",
    "X_train = np.array(X_train)\n",
    "y_train = np.array(y_train)"
   ]
  },
  {
   "cell_type": "code",
   "execution_count": 24,
   "id": "80dd086f-9932-463c-bc1a-ed982698afc0",
   "metadata": {},
   "outputs": [
    {
     "name": "stdout",
     "output_type": "stream",
     "text": [
      "Epoch 1/10\n",
      "26/26 [==============================] - 14s 128ms/step - loss: 0.7927 - accuracy: 0.5020 - val_loss: 0.6880 - val_accuracy: 0.5357\n",
      "Epoch 2/10\n",
      "26/26 [==============================] - 2s 88ms/step - loss: 0.6905 - accuracy: 0.5319 - val_loss: 0.6955 - val_accuracy: 0.4643\n",
      "Epoch 3/10\n",
      "26/26 [==============================] - 2s 85ms/step - loss: 0.6935 - accuracy: 0.5219 - val_loss: 0.6968 - val_accuracy: 0.4643\n",
      "Epoch 4/10\n",
      "26/26 [==============================] - 2s 86ms/step - loss: 0.6945 - accuracy: 0.5080 - val_loss: 0.6905 - val_accuracy: 0.5714\n",
      "Epoch 5/10\n",
      "26/26 [==============================] - 2s 87ms/step - loss: 0.6767 - accuracy: 0.5797 - val_loss: 0.6697 - val_accuracy: 0.5714\n",
      "Epoch 6/10\n",
      "26/26 [==============================] - 2s 87ms/step - loss: 0.6379 - accuracy: 0.6394 - val_loss: 0.7366 - val_accuracy: 0.5357\n",
      "Epoch 7/10\n",
      "26/26 [==============================] - 2s 88ms/step - loss: 0.5690 - accuracy: 0.7032 - val_loss: 0.9041 - val_accuracy: 0.5179\n",
      "Epoch 8/10\n",
      "26/26 [==============================] - 2s 88ms/step - loss: 0.5773 - accuracy: 0.6873 - val_loss: 0.7478 - val_accuracy: 0.5536\n",
      "Epoch 9/10\n",
      "26/26 [==============================] - 2s 88ms/step - loss: 0.5526 - accuracy: 0.7072 - val_loss: 0.8540 - val_accuracy: 0.4464\n",
      "Epoch 10/10\n",
      "26/26 [==============================] - 2s 86ms/step - loss: 0.5829 - accuracy: 0.6773 - val_loss: 0.6570 - val_accuracy: 0.5893\n"
     ]
    },
    {
     "data": {
      "text/plain": [
       "<keras.callbacks.History at 0x26788582d00>"
      ]
     },
     "execution_count": 24,
     "metadata": {},
     "output_type": "execute_result"
    }
   ],
   "source": [
    "model = Sequential()\n",
    "\n",
    "model.add(Conv2D(32, (3, 3), input_shape=(225, 225, 3), activation='relu'))\n",
    "model.add(MaxPooling2D(pool_size=(2, 2)))\n",
    "\n",
    "model.add(Conv2D(64, (3, 3), activation='relu'))\n",
    "model.add(MaxPooling2D(pool_size=(2, 2)))\n",
    "\n",
    "model.add(Conv2D(128, (3, 3), activation='relu'))\n",
    "model.add(MaxPooling2D(pool_size=(2, 2)))\n",
    "\n",
    "model.add(Conv2D(256, (3, 3), activation='relu'))\n",
    "model.add(MaxPooling2D(pool_size=(2, 2)))\n",
    "\n",
    "model.add(Flatten())\n",
    "model.add(Dense(328, activation='relu'))\n",
    "model.add(Dense(1, activation='sigmoid'))\n",
    "\n",
    "model.compile(loss='binary_crossentropy', optimizer='adam', metrics=['accuracy'])\n",
    "model.fit(X_train, y_train, batch_size=20, epochs=10, validation_split=0.1)"
   ]
  },
  {
   "cell_type": "code",
   "execution_count": 25,
   "id": "522c9030-9517-479d-b6ee-0323e81b5c5a",
   "metadata": {},
   "outputs": [
    {
     "name": "stdout",
     "output_type": "stream",
     "text": [
      "Model: \"sequential_8\"\n",
      "_________________________________________________________________\n",
      " Layer (type)                Output Shape              Param #   \n",
      "=================================================================\n",
      " conv2d_32 (Conv2D)          (None, 223, 223, 32)      896       \n",
      "                                                                 \n",
      " max_pooling2d_32 (MaxPoolin  (None, 111, 111, 32)     0         \n",
      " g2D)                                                            \n",
      "                                                                 \n",
      " conv2d_33 (Conv2D)          (None, 109, 109, 64)      18496     \n",
      "                                                                 \n",
      " max_pooling2d_33 (MaxPoolin  (None, 54, 54, 64)       0         \n",
      " g2D)                                                            \n",
      "                                                                 \n",
      " conv2d_34 (Conv2D)          (None, 52, 52, 128)       73856     \n",
      "                                                                 \n",
      " max_pooling2d_34 (MaxPoolin  (None, 26, 26, 128)      0         \n",
      " g2D)                                                            \n",
      "                                                                 \n",
      " conv2d_35 (Conv2D)          (None, 24, 24, 256)       295168    \n",
      "                                                                 \n",
      " max_pooling2d_35 (MaxPoolin  (None, 12, 12, 256)      0         \n",
      " g2D)                                                            \n",
      "                                                                 \n",
      " flatten_8 (Flatten)         (None, 36864)             0         \n",
      "                                                                 \n",
      " dense_15 (Dense)            (None, 328)               12091720  \n",
      "                                                                 \n",
      " dense_16 (Dense)            (None, 1)                 329       \n",
      "                                                                 \n",
      "=================================================================\n",
      "Total params: 12,480,465\n",
      "Trainable params: 12,480,465\n",
      "Non-trainable params: 0\n",
      "_________________________________________________________________\n"
     ]
    }
   ],
   "source": [
    "model.summary()\n",
    "model.save('model.h5')"
   ]
  }
 ],
 "metadata": {
  "kernelspec": {
   "display_name": "base",
   "language": "python",
   "name": "python3"
  },
  "language_info": {
   "codemirror_mode": {
    "name": "ipython",
    "version": 3
   },
   "file_extension": ".py",
   "mimetype": "text/x-python",
   "name": "python",
   "nbconvert_exporter": "python",
   "pygments_lexer": "ipython3",
   "version": "3.9.12"
  },
  "vscode": {
   "interpreter": {
    "hash": "3847c88516e39c615ecf76c4af8caebdbbfe7bc469fea17b208be30d7335ee82"
   }
  }
 },
 "nbformat": 4,
 "nbformat_minor": 5
}
