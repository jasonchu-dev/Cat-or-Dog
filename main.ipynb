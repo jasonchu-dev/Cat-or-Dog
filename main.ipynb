{
 "cells": [
  {
   "cell_type": "code",
   "execution_count": 49,
   "id": "3276d4e0-2aee-4496-9195-16a27a29cda9",
   "metadata": {},
   "outputs": [],
   "source": [
    "import cv2 as cv\n",
    "import os\n",
    "import tensorflow as tf\n",
    "import random\n",
    "import numpy as np\n",
    "from tensorflow.keras.layers import Dense, Conv2D, MaxPooling2D, Flatten, Activation, Dropout\n",
    "from tensorflow.keras.models import Sequential\n",
    "from sklearn.model_selection import train_test_split"
   ]
  },
  {
   "cell_type": "code",
   "execution_count": 50,
   "id": "e8e5a7cf-4c7f-43d7-bcee-f631e268bfe5",
   "metadata": {},
   "outputs": [],
   "source": [
    "X, y = [], []\n",
    "\n",
    "path = os.path.join(os.getcwd(), 'PetImages')\n",
    "path_Dog = os.path.join(path, 'Dog')\n",
    "path_Cat = os.path.join(path, 'Cat')\n",
    "\n",
    "for i in os.listdir(path_Dog)[:350]:\n",
    "    try:\n",
    "        img = cv.imread(os.path.join(path_Dog, i))\n",
    "        img = cv.resize(img, (200, 200))\n",
    "        img = img.reshape(200, 200, 3)\n",
    "        img = img / 255\n",
    "        X.append(img)\n",
    "        y.append(0)\n",
    "    except Exception as e:\n",
    "        pass\n",
    "    \n",
    "for i in os.listdir(path_Cat)[:350]:\n",
    "    try:\n",
    "        img = cv.imread(os.path.join(path_Cat, i))\n",
    "        img = cv.resize(img, (200, 200))\n",
    "        img = img.reshape(200, 200, 3)\n",
    "        img = img / 255\n",
    "        X.append(img)\n",
    "        y.append(1)\n",
    "    except Exception as e:\n",
    "        pass\n",
    "\n",
    "X = np.array(X)\n",
    "y = np.array(y)"
   ]
  },
  {
   "cell_type": "code",
   "execution_count": 51,
   "id": "80dd086f-9932-463c-bc1a-ed982698afc0",
   "metadata": {},
   "outputs": [
    {
     "name": "stdout",
     "output_type": "stream",
     "text": [
      "Epoch 1/10\n",
      "32/32 [==============================] - 2s 61ms/step - loss: 0.7927 - accuracy: 0.4697 - val_loss: 0.7082 - val_accuracy: 0.0000e+00\n",
      "Epoch 2/10\n",
      "32/32 [==============================] - 2s 55ms/step - loss: 0.6844 - accuracy: 0.5557 - val_loss: 0.9667 - val_accuracy: 0.0000e+00\n",
      "Epoch 3/10\n",
      "32/32 [==============================] - 2s 55ms/step - loss: 0.6835 - accuracy: 0.5557 - val_loss: 0.7471 - val_accuracy: 0.0000e+00\n",
      "Epoch 4/10\n",
      "32/32 [==============================] - 2s 55ms/step - loss: 0.6707 - accuracy: 0.5414 - val_loss: 0.6908 - val_accuracy: 0.6000\n",
      "Epoch 5/10\n",
      "32/32 [==============================] - 2s 55ms/step - loss: 0.6701 - accuracy: 0.5780 - val_loss: 0.6032 - val_accuracy: 0.9857\n",
      "Epoch 6/10\n",
      "32/32 [==============================] - 2s 55ms/step - loss: 0.6515 - accuracy: 0.5780 - val_loss: 0.8032 - val_accuracy: 0.3714\n",
      "Epoch 7/10\n",
      "32/32 [==============================] - 2s 55ms/step - loss: 0.6134 - accuracy: 0.6433 - val_loss: 0.7902 - val_accuracy: 0.4286\n",
      "Epoch 8/10\n",
      "32/32 [==============================] - 2s 56ms/step - loss: 0.5838 - accuracy: 0.6704 - val_loss: 0.4850 - val_accuracy: 0.9286\n",
      "Epoch 9/10\n",
      "32/32 [==============================] - 2s 55ms/step - loss: 0.5518 - accuracy: 0.7102 - val_loss: 0.7936 - val_accuracy: 0.5143\n",
      "Epoch 10/10\n",
      "32/32 [==============================] - 2s 54ms/step - loss: 0.5133 - accuracy: 0.7373 - val_loss: 0.9611 - val_accuracy: 0.4286\n"
     ]
    },
    {
     "data": {
      "text/plain": [
       "<keras.callbacks.History at 0x2194aa44d60>"
      ]
     },
     "execution_count": 51,
     "metadata": {},
     "output_type": "execute_result"
    }
   ],
   "source": [
    "model = Sequential()\n",
    "\n",
    "model.add(Conv2D(32, (3, 3), input_shape=(200, 200, 3), activation='relu'))\n",
    "model.add(MaxPooling2D(pool_size=(2, 2)))\n",
    "\n",
    "model.add(Conv2D(64, (3, 3), activation='relu'))\n",
    "model.add(MaxPooling2D(pool_size=(2, 2)))\n",
    "\n",
    "model.add(Conv2D(128, (3, 3), activation='relu'))\n",
    "model.add(MaxPooling2D(pool_size=(2, 2)))\n",
    "\n",
    "model.add(Conv2D(256, (3, 3), activation='relu'))\n",
    "model.add(MaxPooling2D(pool_size=(2, 2)))\n",
    "\n",
    "model.add(Flatten())\n",
    "model.add(Dense(328, activation='relu'))\n",
    "\n",
    "model.add(Dense(2, activation='softmax'))\n",
    "\n",
    "model.compile(loss='sparse_categorical_crossentropy', optimizer='adam', metrics=['accuracy'])\n",
    "model.fit(X, y, batch_size=20, epochs=10, validation_split=0.1)"
   ]
  },
  {
   "cell_type": "code",
   "execution_count": 52,
   "id": "522c9030-9517-479d-b6ee-0323e81b5c5a",
   "metadata": {},
   "outputs": [
    {
     "name": "stdout",
     "output_type": "stream",
     "text": [
      "Model: \"sequential_14\"\n",
      "_________________________________________________________________\n",
      " Layer (type)                Output Shape              Param #   \n",
      "=================================================================\n",
      " conv2d_55 (Conv2D)          (None, 198, 198, 32)      896       \n",
      "                                                                 \n",
      " max_pooling2d_55 (MaxPoolin  (None, 99, 99, 32)       0         \n",
      " g2D)                                                            \n",
      "                                                                 \n",
      " conv2d_56 (Conv2D)          (None, 97, 97, 64)        18496     \n",
      "                                                                 \n",
      " max_pooling2d_56 (MaxPoolin  (None, 48, 48, 64)       0         \n",
      " g2D)                                                            \n",
      "                                                                 \n",
      " conv2d_57 (Conv2D)          (None, 46, 46, 128)       73856     \n",
      "                                                                 \n",
      " max_pooling2d_57 (MaxPoolin  (None, 23, 23, 128)      0         \n",
      " g2D)                                                            \n",
      "                                                                 \n",
      " conv2d_58 (Conv2D)          (None, 21, 21, 256)       295168    \n",
      "                                                                 \n",
      " max_pooling2d_58 (MaxPoolin  (None, 10, 10, 256)      0         \n",
      " g2D)                                                            \n",
      "                                                                 \n",
      " flatten_14 (Flatten)        (None, 25600)             0         \n",
      "                                                                 \n",
      " dense_27 (Dense)            (None, 328)               8397128   \n",
      "                                                                 \n",
      " dense_28 (Dense)            (None, 2)                 658       \n",
      "                                                                 \n",
      "=================================================================\n",
      "Total params: 8,786,202\n",
      "Trainable params: 8,786,202\n",
      "Non-trainable params: 0\n",
      "_________________________________________________________________\n"
     ]
    }
   ],
   "source": [
    "model.summary()\n",
    "model.save('model.h5')"
   ]
  }
 ],
 "metadata": {
  "kernelspec": {
   "display_name": "base",
   "language": "python",
   "name": "python3"
  },
  "language_info": {
   "codemirror_mode": {
    "name": "ipython",
    "version": 3
   },
   "file_extension": ".py",
   "mimetype": "text/x-python",
   "name": "python",
   "nbconvert_exporter": "python",
   "pygments_lexer": "ipython3",
   "version": "3.9.12"
  },
  "vscode": {
   "interpreter": {
    "hash": "3847c88516e39c615ecf76c4af8caebdbbfe7bc469fea17b208be30d7335ee82"
   }
  }
 },
 "nbformat": 4,
 "nbformat_minor": 5
}
