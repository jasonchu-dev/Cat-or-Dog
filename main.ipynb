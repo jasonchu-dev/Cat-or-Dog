{
 "cells": [
  {
   "cell_type": "code",
   "execution_count": 11,
   "id": "3276d4e0-2aee-4496-9195-16a27a29cda9",
   "metadata": {},
   "outputs": [],
   "source": [
    "import cv2 as cv\n",
    "import os\n",
    "import tensorflow as tf\n",
    "import random\n",
    "import numpy as np\n",
    "from tensorflow.keras.layers import Dense, Conv2D, MaxPooling2D, Flatten, Activation, Dropout\n",
    "from tensorflow.keras.models import Sequential"
   ]
  },
  {
   "cell_type": "code",
   "execution_count": 2,
   "id": "4fad701d-6f1b-4b74-8a8d-202d195b3996",
   "metadata": {},
   "outputs": [
    {
     "name": "stderr",
     "output_type": "stream",
     "text": [
      "Corrupt JPEG data: 214 extraneous bytes before marker 0xd9\n",
      "Corrupt JPEG data: 99 extraneous bytes before marker 0xd9\n",
      "Corrupt JPEG data: 128 extraneous bytes before marker 0xd9\n",
      "Corrupt JPEG data: 239 extraneous bytes before marker 0xd9\n",
      "Corrupt JPEG data: 1153 extraneous bytes before marker 0xd9\n",
      "Corrupt JPEG data: 399 extraneous bytes before marker 0xd9\n",
      "Warning: unknown JFIF revision number 0.00\n",
      "Corrupt JPEG data: 2230 extraneous bytes before marker 0xd9\n",
      "Corrupt JPEG data: 65 extraneous bytes before marker 0xd9\n",
      "Corrupt JPEG data: 162 extraneous bytes before marker 0xd9\n",
      "Corrupt JPEG data: 1403 extraneous bytes before marker 0xd9\n",
      "Corrupt JPEG data: 226 extraneous bytes before marker 0xd9\n",
      "Corrupt JPEG data: 254 extraneous bytes before marker 0xd9\n"
     ]
    }
   ],
   "source": [
    "DATADIR = '/home/jovyan/work/cat_or_dog/PetImages'\n",
    "IMG_SIZE = 200\n",
    "data = []\n",
    "\n",
    "for _id, category in enumerate(os.listdir(DATADIR)):\n",
    "    path = os.path.join(DATADIR, category)\n",
    "    for img in os.listdir(path):\n",
    "        try:\n",
    "            img_arr = cv.imread(os.path.join(path, img), cv.IMREAD_GRAYSCALE)\n",
    "            img_arr = cv.resize(img_arr, (IMG_SIZE, IMG_SIZE))\n",
    "            data.append([img_arr, _id])\n",
    "        except Exception as e:\n",
    "            pass"
   ]
  },
  {
   "cell_type": "code",
   "execution_count": 3,
   "id": "1dc3ad9b-5bd1-4264-aa41-804ed918c6a1",
   "metadata": {},
   "outputs": [],
   "source": [
    "random.shuffle(data)"
   ]
  },
  {
   "cell_type": "code",
   "execution_count": 9,
   "id": "0c984ead-b0f8-41d9-9d02-12964fc8359a",
   "metadata": {},
   "outputs": [],
   "source": [
    "X = []\n",
    "y = []\n",
    "\n",
    "for img_arr, _id in data[:500]:\n",
    "    X.append(img_arr)\n",
    "    y.append(_id)\n",
    "    \n",
    "X = np.array(X).reshape(-1, IMG_SIZE, IMG_SIZE, 1)\n",
    "X = X/255\n",
    "y = np.array(y)"
   ]
  },
  {
   "cell_type": "code",
   "execution_count": 15,
   "id": "3fd00ca7-6094-437e-b254-459f67fbfaf4",
   "metadata": {},
   "outputs": [
    {
     "name": "stdout",
     "output_type": "stream",
     "text": [
      "Epoch 1/20\n",
      "23/23 [==============================] - 11s 458ms/step - loss: 1.3451 - accuracy: 0.5000 - val_loss: 0.6897 - val_accuracy: 0.5800\n",
      "Epoch 2/20\n",
      "23/23 [==============================] - 12s 512ms/step - loss: 0.6961 - accuracy: 0.4933 - val_loss: 0.6899 - val_accuracy: 0.5800\n",
      "Epoch 3/20\n",
      "23/23 [==============================] - 12s 503ms/step - loss: 0.6867 - accuracy: 0.6022 - val_loss: 0.7419 - val_accuracy: 0.4200\n",
      "Epoch 4/20\n",
      "23/23 [==============================] - 11s 499ms/step - loss: 0.6788 - accuracy: 0.5600 - val_loss: 0.6897 - val_accuracy: 0.5800\n",
      "Epoch 5/20\n",
      "23/23 [==============================] - 11s 483ms/step - loss: 0.6111 - accuracy: 0.6711 - val_loss: 0.6957 - val_accuracy: 0.5200\n",
      "Epoch 6/20\n",
      "23/23 [==============================] - 12s 529ms/step - loss: 0.5099 - accuracy: 0.7511 - val_loss: 0.7356 - val_accuracy: 0.6000\n",
      "Epoch 7/20\n",
      "23/23 [==============================] - 11s 477ms/step - loss: 0.3653 - accuracy: 0.8489 - val_loss: 0.7113 - val_accuracy: 0.6800\n",
      "Epoch 8/20\n",
      "23/23 [==============================] - 10s 432ms/step - loss: 0.2542 - accuracy: 0.8978 - val_loss: 0.8961 - val_accuracy: 0.6400\n",
      "Epoch 9/20\n",
      "23/23 [==============================] - 9s 413ms/step - loss: 0.1765 - accuracy: 0.9333 - val_loss: 0.8348 - val_accuracy: 0.6800\n",
      "Epoch 10/20\n",
      "23/23 [==============================] - 10s 425ms/step - loss: 0.0986 - accuracy: 0.9756 - val_loss: 1.1233 - val_accuracy: 0.6400\n",
      "Epoch 11/20\n",
      "23/23 [==============================] - 10s 437ms/step - loss: 0.0760 - accuracy: 0.9756 - val_loss: 1.1541 - val_accuracy: 0.6400\n",
      "Epoch 12/20\n",
      "23/23 [==============================] - 10s 418ms/step - loss: 0.0376 - accuracy: 0.9889 - val_loss: 1.5931 - val_accuracy: 0.6000\n",
      "Epoch 13/20\n",
      "23/23 [==============================] - 11s 466ms/step - loss: 0.0271 - accuracy: 0.9978 - val_loss: 2.0087 - val_accuracy: 0.6400\n",
      "Epoch 14/20\n",
      "23/23 [==============================] - 11s 493ms/step - loss: 0.0178 - accuracy: 0.9956 - val_loss: 1.7869 - val_accuracy: 0.6600\n",
      "Epoch 15/20\n",
      "23/23 [==============================] - 12s 509ms/step - loss: 0.0215 - accuracy: 0.9956 - val_loss: 1.9118 - val_accuracy: 0.6400\n",
      "Epoch 16/20\n",
      "23/23 [==============================] - 11s 456ms/step - loss: 0.0082 - accuracy: 0.9978 - val_loss: 2.2434 - val_accuracy: 0.5800\n",
      "Epoch 17/20\n",
      "23/23 [==============================] - 10s 440ms/step - loss: 0.0119 - accuracy: 0.9956 - val_loss: 2.1351 - val_accuracy: 0.5600\n",
      "Epoch 18/20\n",
      "23/23 [==============================] - 10s 438ms/step - loss: 0.0466 - accuracy: 0.9956 - val_loss: 1.7044 - val_accuracy: 0.7000\n",
      "Epoch 19/20\n",
      "23/23 [==============================] - 9s 409ms/step - loss: 0.0139 - accuracy: 1.0000 - val_loss: 2.6663 - val_accuracy: 0.6400\n",
      "Epoch 20/20\n",
      "23/23 [==============================] - 10s 414ms/step - loss: 0.0033 - accuracy: 1.0000 - val_loss: 3.0918 - val_accuracy: 0.6400\n"
     ]
    },
    {
     "data": {
      "text/plain": [
       "<keras.callbacks.History at 0x7f232c609600>"
      ]
     },
     "execution_count": 17,
     "metadata": {},
     "output_type": "execute_result"
    }
   ],
   "source": [
    "model = Sequential()\n",
    "\n",
    "model.add(Conv2D(32, (3, 3), input_shape=(IMG_SIZE, IMG_SIZE, 1), activation='relu'))\n",
    "model.add(MaxPooling2D(pool_size=(2, 2)))\n",
    "\n",
    "model.add(Conv2D(64, (3, 3), activation='relu'))\n",
    "model.add(MaxPooling2D(pool_size=(2, 2)))\n",
    "\n",
    "model.add(Conv2D(128, (3, 3), activation='relu'))\n",
    "model.add(MaxPooling2D(pool_size=(2, 2)))\n",
    "\n",
    "model.add(Flatten())\n",
    "model.add(Dense(128))\n",
    "\n",
    "model.add(Dense(1, activation='sigmoid'))\n",
    "\n",
    "model.compile(loss='binary_crossentropy', optimizer='Adam', metrics=['accuracy'])\n",
    "model.fit(X, y, batch_size=20, epochs=20, validation_split=0.1)"
   ]
  },
  {
   "cell_type": "code",
   "execution_count": 18,
   "id": "1b73d7d8-a541-40b6-9ba2-fa02fc53453f",
   "metadata": {},
   "outputs": [
    {
     "name": "stdout",
     "output_type": "stream",
     "text": [
      "Model: \"sequential_4\"\n",
      "_________________________________________________________________\n",
      " Layer (type)                Output Shape              Param #   \n",
      "=================================================================\n",
      " conv2d_9 (Conv2D)           (None, 198, 198, 32)      320       \n",
      "                                                                 \n",
      " max_pooling2d_9 (MaxPooling  (None, 99, 99, 32)       0         \n",
      " 2D)                                                             \n",
      "                                                                 \n",
      " conv2d_10 (Conv2D)          (None, 97, 97, 64)        18496     \n",
      "                                                                 \n",
      " max_pooling2d_10 (MaxPoolin  (None, 48, 48, 64)       0         \n",
      " g2D)                                                            \n",
      "                                                                 \n",
      " conv2d_11 (Conv2D)          (None, 46, 46, 128)       73856     \n",
      "                                                                 \n",
      " max_pooling2d_11 (MaxPoolin  (None, 23, 23, 128)      0         \n",
      " g2D)                                                            \n",
      "                                                                 \n",
      " flatten_3 (Flatten)         (None, 67712)             0         \n",
      "                                                                 \n",
      " dense_6 (Dense)             (None, 128)               8667264   \n",
      "                                                                 \n",
      " dense_7 (Dense)             (None, 1)                 129       \n",
      "                                                                 \n",
      "=================================================================\n",
      "Total params: 8,760,065\n",
      "Trainable params: 8,760,065\n",
      "Non-trainable params: 0\n",
      "_________________________________________________________________\n"
     ]
    }
   ],
   "source": [
    "model.summary()"
   ]
  },
  {
   "cell_type": "code",
   "execution_count": 20,
   "id": "3ae748ce-a602-436b-9857-75eb96935380",
   "metadata": {},
   "outputs": [],
   "source": [
    "model.save('model.h5')"
   ]
  },
  {
   "cell_type": "code",
   "execution_count": 22,
   "id": "6aa80ca7-0bbf-4c99-ad81-7794018d8b9b",
   "metadata": {},
   "outputs": [
    {
     "name": "stdout",
     "output_type": "stream",
     "text": [
      "Model: \"sequential_4\"\n",
      "_________________________________________________________________\n",
      " Layer (type)                Output Shape              Param #   \n",
      "=================================================================\n",
      " conv2d_9 (Conv2D)           (None, 198, 198, 32)      320       \n",
      "                                                                 \n",
      " max_pooling2d_9 (MaxPooling  (None, 99, 99, 32)       0         \n",
      " 2D)                                                             \n",
      "                                                                 \n",
      " conv2d_10 (Conv2D)          (None, 97, 97, 64)        18496     \n",
      "                                                                 \n",
      " max_pooling2d_10 (MaxPoolin  (None, 48, 48, 64)       0         \n",
      " g2D)                                                            \n",
      "                                                                 \n",
      " conv2d_11 (Conv2D)          (None, 46, 46, 128)       73856     \n",
      "                                                                 \n",
      " max_pooling2d_11 (MaxPoolin  (None, 23, 23, 128)      0         \n",
      " g2D)                                                            \n",
      "                                                                 \n",
      " flatten_3 (Flatten)         (None, 67712)             0         \n",
      "                                                                 \n",
      " dense_6 (Dense)             (None, 128)               8667264   \n",
      "                                                                 \n",
      " dense_7 (Dense)             (None, 1)                 129       \n",
      "                                                                 \n",
      "=================================================================\n",
      "Total params: 8,760,065\n",
      "Trainable params: 8,760,065\n",
      "Non-trainable params: 0\n",
      "_________________________________________________________________\n"
     ]
    }
   ],
   "source": [
    "savedModel=tf.keras.models.load_model('model.h5')\n",
    "savedModel.summary()"
   ]
  }
 ],
 "metadata": {
  "kernelspec": {
   "display_name": "Python 3 (ipykernel)",
   "language": "python",
   "name": "python3"
  },
  "language_info": {
   "codemirror_mode": {
    "name": "ipython",
    "version": 3
   },
   "file_extension": ".py",
   "mimetype": "text/x-python",
   "name": "python",
   "nbconvert_exporter": "python",
   "pygments_lexer": "ipython3",
   "version": "3.10.8"
  }
 },
 "nbformat": 4,
 "nbformat_minor": 5
}
