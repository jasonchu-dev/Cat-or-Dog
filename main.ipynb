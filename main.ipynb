{
 "cells": [
  {
   "cell_type": "code",
   "execution_count": 1,
   "id": "3276d4e0-2aee-4496-9195-16a27a29cda9",
   "metadata": {},
   "outputs": [
    {
     "name": "stderr",
     "output_type": "stream",
     "text": [
      "2023-01-03 05:25:32.725138: I tensorflow/core/platform/cpu_feature_guard.cc:193] This TensorFlow binary is optimized with oneAPI Deep Neural Network Library (oneDNN) to use the following CPU instructions in performance-critical operations:  AVX2 AVX_VNNI FMA\n",
      "To enable them in other operations, rebuild TensorFlow with the appropriate compiler flags.\n",
      "2023-01-03 05:25:32.999824: I tensorflow/core/util/port.cc:104] oneDNN custom operations are on. You may see slightly different numerical results due to floating-point round-off errors from different computation orders. To turn them off, set the environment variable `TF_ENABLE_ONEDNN_OPTS=0`.\n",
      "2023-01-03 05:25:33.045539: W tensorflow/compiler/xla/stream_executor/platform/default/dso_loader.cc:64] Could not load dynamic library 'libcudart.so.11.0'; dlerror: libcudart.so.11.0: cannot open shared object file: No such file or directory; LD_LIBRARY_PATH: /opt/conda/lib/python3.10/site-packages/cv2/../../lib64:\n",
      "2023-01-03 05:25:33.045573: I tensorflow/compiler/xla/stream_executor/cuda/cudart_stub.cc:29] Ignore above cudart dlerror if you do not have a GPU set up on your machine.\n",
      "2023-01-03 05:25:34.089164: W tensorflow/compiler/xla/stream_executor/platform/default/dso_loader.cc:64] Could not load dynamic library 'libnvinfer.so.7'; dlerror: libnvinfer.so.7: cannot open shared object file: No such file or directory; LD_LIBRARY_PATH: /opt/conda/lib/python3.10/site-packages/cv2/../../lib64:\n",
      "2023-01-03 05:25:34.089248: W tensorflow/compiler/xla/stream_executor/platform/default/dso_loader.cc:64] Could not load dynamic library 'libnvinfer_plugin.so.7'; dlerror: libnvinfer_plugin.so.7: cannot open shared object file: No such file or directory; LD_LIBRARY_PATH: /opt/conda/lib/python3.10/site-packages/cv2/../../lib64:\n",
      "2023-01-03 05:25:34.089255: W tensorflow/compiler/tf2tensorrt/utils/py_utils.cc:38] TF-TRT Warning: Cannot dlopen some TensorRT libraries. If you would like to use Nvidia GPU with TensorRT, please make sure the missing libraries mentioned above are installed properly.\n"
     ]
    }
   ],
   "source": [
    "import cv2 as cv\n",
    "import os\n",
    "import tensorflow as tf\n",
    "import random\n",
    "import numpy as np\n",
    "from tensorflow.keras.layers import Dense, Conv2D, MaxPooling2D, Flatten, Activation, Dropout\n",
    "from tensorflow.keras.models import Sequential\n",
    "from sklearn.model_selection import train_test_split"
   ]
  },
  {
   "cell_type": "code",
   "execution_count": 2,
   "id": "e8e5a7cf-4c7f-43d7-bcee-f631e268bfe5",
   "metadata": {},
   "outputs": [
    {
     "data": {
      "text/plain": [
       "(699, 699)"
      ]
     },
     "execution_count": 2,
     "metadata": {},
     "output_type": "execute_result"
    }
   ],
   "source": [
    "X, y = [], []\n",
    "\n",
    "for i in os.listdir(os.getcwd() + '/PetImages/Dog')[:350]:\n",
    "    try:\n",
    "        img = cv.imread(os.getcwd() + '/PetImages/Dog/' + i)\n",
    "        img = cv.resize(img, (225, 225))\n",
    "        img = img.reshape(225, 225, 3)\n",
    "        img = img / 255\n",
    "        X.append(img)\n",
    "        y.append(0)\n",
    "    except Exception as e:\n",
    "        pass\n",
    "    \n",
    "for i in os.listdir(os.getcwd() + '/PetImages/Cat')[:350]:\n",
    "    try:\n",
    "        img = cv.imread(os.getcwd() + '/PetImages/Cat/' + i)\n",
    "        img = cv.resize(img, (225, 225))\n",
    "        img = img.reshape(225, 225, 3)\n",
    "        img = img / 255\n",
    "        X.append(img)\n",
    "        y.append(1)\n",
    "    except Exception as e:\n",
    "        pass\n",
    "\n",
    "len(X), len(y)"
   ]
  },
  {
   "cell_type": "code",
   "execution_count": 3,
   "id": "eba3bfdb-3b68-42f1-808d-df5eac189fd0",
   "metadata": {},
   "outputs": [],
   "source": [
    "X_train, X_test, y_train, y_test = train_test_split(X, y, test_size=0.2, random_state=42)\n",
    "X_train = np.array(X_train)\n",
    "y_train = np.array(y_train)"
   ]
  },
  {
   "cell_type": "code",
   "execution_count": 4,
   "id": "6685b883-d758-4034-8762-31db477069ad",
   "metadata": {},
   "outputs": [
    {
     "data": {
      "text/plain": [
       "(559, 140, 559, 140)"
      ]
     },
     "execution_count": 4,
     "metadata": {},
     "output_type": "execute_result"
    }
   ],
   "source": [
    "len(X_train), len(X_test), len(y_train), len(y_test)"
   ]
  },
  {
   "cell_type": "code",
   "execution_count": 5,
   "id": "80dd086f-9932-463c-bc1a-ed982698afc0",
   "metadata": {},
   "outputs": [
    {
     "name": "stderr",
     "output_type": "stream",
     "text": [
      "2023-01-03 05:25:39.733904: W tensorflow/compiler/xla/stream_executor/platform/default/dso_loader.cc:64] Could not load dynamic library 'libcuda.so.1'; dlerror: libcuda.so.1: cannot open shared object file: No such file or directory; LD_LIBRARY_PATH: /opt/conda/lib/python3.10/site-packages/cv2/../../lib64:\n",
      "2023-01-03 05:25:39.735375: W tensorflow/compiler/xla/stream_executor/cuda/cuda_driver.cc:265] failed call to cuInit: UNKNOWN ERROR (303)\n",
      "2023-01-03 05:25:39.735818: I tensorflow/compiler/xla/stream_executor/cuda/cuda_diagnostics.cc:156] kernel driver does not appear to be running on this host (2f2deb97f862): /proc/driver/nvidia/version does not exist\n",
      "2023-01-03 05:25:39.741241: I tensorflow/core/platform/cpu_feature_guard.cc:193] This TensorFlow binary is optimized with oneAPI Deep Neural Network Library (oneDNN) to use the following CPU instructions in performance-critical operations:  AVX2 AVX_VNNI FMA\n",
      "To enable them in other operations, rebuild TensorFlow with the appropriate compiler flags.\n"
     ]
    },
    {
     "name": "stdout",
     "output_type": "stream",
     "text": [
      "Epoch 1/10\n",
      "26/26 [==============================] - 9s 319ms/step - loss: 2.2051 - accuracy: 0.5050 - val_loss: 0.6956 - val_accuracy: 0.4643\n",
      "Epoch 2/10\n",
      "26/26 [==============================] - 9s 365ms/step - loss: 0.6853 - accuracy: 0.5527 - val_loss: 0.6955 - val_accuracy: 0.5357\n",
      "Epoch 3/10\n",
      "26/26 [==============================] - 14s 543ms/step - loss: 0.6367 - accuracy: 0.6720 - val_loss: 0.6810 - val_accuracy: 0.6071\n",
      "Epoch 4/10\n",
      "26/26 [==============================] - 12s 459ms/step - loss: 0.5890 - accuracy: 0.7038 - val_loss: 0.7409 - val_accuracy: 0.5000\n",
      "Epoch 5/10\n",
      "26/26 [==============================] - 11s 433ms/step - loss: 0.4940 - accuracy: 0.7594 - val_loss: 0.7529 - val_accuracy: 0.5714\n",
      "Epoch 6/10\n",
      "26/26 [==============================] - 12s 482ms/step - loss: 0.3573 - accuracy: 0.8588 - val_loss: 1.0615 - val_accuracy: 0.5714\n",
      "Epoch 7/10\n",
      "26/26 [==============================] - 13s 482ms/step - loss: 0.2766 - accuracy: 0.8887 - val_loss: 0.9199 - val_accuracy: 0.6607\n",
      "Epoch 8/10\n",
      "26/26 [==============================] - 15s 568ms/step - loss: 0.1999 - accuracy: 0.9384 - val_loss: 1.0384 - val_accuracy: 0.5536\n",
      "Epoch 9/10\n",
      "26/26 [==============================] - 16s 619ms/step - loss: 0.1143 - accuracy: 0.9622 - val_loss: 1.1879 - val_accuracy: 0.5893\n",
      "Epoch 10/10\n",
      "26/26 [==============================] - 14s 538ms/step - loss: 0.0740 - accuracy: 0.9742 - val_loss: 1.4999 - val_accuracy: 0.5714\n"
     ]
    },
    {
     "data": {
      "text/plain": [
       "<keras.callbacks.History at 0x7f3da422d210>"
      ]
     },
     "execution_count": 5,
     "metadata": {},
     "output_type": "execute_result"
    }
   ],
   "source": [
    "model = Sequential()\n",
    "\n",
    "model.add(Conv2D(32, (3, 3), input_shape=(225, 225, 3), activation='relu'))\n",
    "model.add(MaxPooling2D(pool_size=(2, 2)))\n",
    "\n",
    "model.add(Conv2D(64, (3, 3), activation='relu'))\n",
    "model.add(MaxPooling2D(pool_size=(2, 2)))\n",
    "\n",
    "model.add(Conv2D(128, (3, 3), activation='relu'))\n",
    "model.add(MaxPooling2D(pool_size=(2, 2)))\n",
    "\n",
    "model.add(Flatten())\n",
    "model.add(Dense(128))\n",
    "\n",
    "model.add(Dense(1, activation='sigmoid'))\n",
    "\n",
    "model.compile(loss='binary_crossentropy', optimizer='Adam', metrics=['accuracy'])\n",
    "model.fit(X_train, y_train, batch_size=20, epochs=10, validation_split=0.1)"
   ]
  },
  {
   "cell_type": "code",
   "execution_count": 6,
   "id": "522c9030-9517-479d-b6ee-0323e81b5c5a",
   "metadata": {},
   "outputs": [
    {
     "name": "stdout",
     "output_type": "stream",
     "text": [
      "Model: \"sequential\"\n",
      "_________________________________________________________________\n",
      " Layer (type)                Output Shape              Param #   \n",
      "=================================================================\n",
      " conv2d (Conv2D)             (None, 223, 223, 32)      896       \n",
      "                                                                 \n",
      " max_pooling2d (MaxPooling2D  (None, 111, 111, 32)     0         \n",
      " )                                                               \n",
      "                                                                 \n",
      " conv2d_1 (Conv2D)           (None, 109, 109, 64)      18496     \n",
      "                                                                 \n",
      " max_pooling2d_1 (MaxPooling  (None, 54, 54, 64)       0         \n",
      " 2D)                                                             \n",
      "                                                                 \n",
      " conv2d_2 (Conv2D)           (None, 52, 52, 128)       73856     \n",
      "                                                                 \n",
      " max_pooling2d_2 (MaxPooling  (None, 26, 26, 128)      0         \n",
      " 2D)                                                             \n",
      "                                                                 \n",
      " flatten (Flatten)           (None, 86528)             0         \n",
      "                                                                 \n",
      " dense (Dense)               (None, 128)               11075712  \n",
      "                                                                 \n",
      " dense_1 (Dense)             (None, 1)                 129       \n",
      "                                                                 \n",
      "=================================================================\n",
      "Total params: 11,169,089\n",
      "Trainable params: 11,169,089\n",
      "Non-trainable params: 0\n",
      "_________________________________________________________________\n"
     ]
    }
   ],
   "source": [
    "model.summary()\n",
    "model.save('model.h5')"
   ]
  }
 ],
 "metadata": {
  "kernelspec": {
   "display_name": "Python 3 (ipykernel)",
   "language": "python",
   "name": "python3"
  },
  "language_info": {
   "codemirror_mode": {
    "name": "ipython",
    "version": 3
   },
   "file_extension": ".py",
   "mimetype": "text/x-python",
   "name": "python",
   "nbconvert_exporter": "python",
   "pygments_lexer": "ipython3",
   "version": "3.10.8"
  }
 },
 "nbformat": 4,
 "nbformat_minor": 5
}
